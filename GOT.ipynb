{
 "cells": [
  {
   "cell_type": "markdown",
   "metadata": {},
   "source": [
    "## GOT PROJECT"
   ]
  },
  {
   "cell_type": "markdown",
   "metadata": {},
   "source": [
    "## Open the text and dividing by chapter"
   ]
  },
  {
   "cell_type": "code",
   "execution_count": 1,
   "metadata": {},
   "outputs": [],
   "source": [
    "import spacy\n"
   ]
  },
  {
   "cell_type": "code",
   "execution_count": 2,
   "metadata": {},
   "outputs": [
    {
     "data": {
      "text/plain": [
       "73"
      ]
     },
     "execution_count": 2,
     "metadata": {},
     "output_type": "execute_result"
    }
   ],
   "source": [
    "with open('GOT1.txt','r') as fp:\n",
    "    book= fp.read()\n",
    "    chapters = book.split('\\n\\n\\n\\n\\n')\n",
    "len(chapters)"
   ]
  },
  {
   "cell_type": "code",
   "execution_count": 3,
   "metadata": {},
   "outputs": [
    {
     "name": "stdout",
     "output_type": "stream",
     "text": [
      "1 PROLOGUE\n",
      "2 BRAN\n",
      "3 CATELYN\n",
      "4 DAENERYS\n",
      "5 EDDARD\n",
      "6 JON\n",
      "7 CATELYN\n",
      "8 ARYA\n",
      "9 BRAN\n",
      "10 TYRION\n",
      "11 JON\n",
      "12 DAENERYS\n",
      "13 EDDARD\n",
      "14 TYRION\n",
      "15 CATELYN\n",
      "16 SANSA\n",
      "17 EDDARD\n",
      "18 BRAN\n",
      "19 CATELYN\n",
      "20 JON\n",
      "21 EDDARD\n",
      "22 TYRION\n",
      "23 ARYA\n",
      "24 DAENERYS\n",
      "25 BRAN\n",
      "26 EDDARD\n",
      "27 JON\n",
      "28 EDDARD\n",
      "29 CATELYN\n",
      "30 SANSA\n",
      "31 EDDARD\n",
      "32 TYRION\n",
      "33 ARYA\n",
      "34 EDDARD\n",
      "35 CATELYN\n",
      "36 EDDARD\n",
      "37 DAENERYS\n",
      "38 BRAN\n",
      "39 TYRION\n",
      "40 EDDARD\n",
      "41 CATELYN\n",
      "42 JON\n",
      "43 TYRION\n",
      "44 EDDARD\n",
      "45 SANSA\n",
      "46 EDDARD\n",
      "47 DAENERYS\n",
      "48 EDDARD\n",
      "49 JON\n",
      "50 EDDARD\n",
      "51 ARYA\n",
      "52 SANSA\n",
      "53 JON\n",
      "54 BRAN\n",
      "55 DAENERYS\n",
      "56 CATELYN\n",
      "57 TYRION\n",
      "58 SANSA\n",
      "59 EDDARD\n",
      "60 CATELYN\n",
      "61 JON\n",
      "62 DAENERYS\n",
      "63 TYRION\n",
      "64 CATELYN\n",
      "65 DAENERYS\n",
      "66 ARYA\n",
      "67 BRAN\n",
      "68 SANSA\n",
      "69 DAENERYS\n",
      "70 TYRION\n",
      "71 JON\n",
      "72 CATELYN\n",
      "73 DAENERYS\n"
     ]
    }
   ],
   "source": [
    "for i in range(0,len(chapters)):\n",
    "    name = [word for word in chapters[i].split('\\n') if len(word.strip()) > 0][0]\n",
    "    print (i+1, name)"
   ]
  },
  {
   "cell_type": "code",
   "execution_count": 4,
   "metadata": {},
   "outputs": [],
   "source": [
    "nlp = spacy.load('en')\n",
    "#import en_core_web_sm\n",
    "#import en_core_web_md\n",
    "#import en_core_web_lg\n",
    "\n",
    "#nlp1=  en_core_web_sm.load()\n",
    "#nlp2 = en_core_web_md.load()\n",
    "#nlp3 = en_core_web_lg.load()"
   ]
  },
  {
   "cell_type": "code",
   "execution_count": 5,
   "metadata": {},
   "outputs": [
    {
     "ename": "IndentationError",
     "evalue": "expected an indented block (<ipython-input-5-f830d4749d03>, line 19)",
     "output_type": "error",
     "traceback": [
      "\u001b[1;36m  File \u001b[1;32m\"<ipython-input-5-f830d4749d03>\"\u001b[1;36m, line \u001b[1;32m19\u001b[0m\n\u001b[1;33m    with open('GOT1.txt','r') as fp:\u001b[0m\n\u001b[1;37m       ^\u001b[0m\n\u001b[1;31mIndentationError\u001b[0m\u001b[1;31m:\u001b[0m expected an indented block\n"
     ]
    }
   ],
   "source": [
    "def union_entities(listA, listB):\n",
    "    result = listA\n",
    "    for ent_b,y1,y2 in listB:\n",
    "        overlap = False\n",
    "        for ent_a,x1,x2 in listA:\n",
    "            if x1 <= y2 and y1 <= x2: # overlap\n",
    "                overlap = True\n",
    "                if (y2-y1) > (x2-x2): # the largest entity is B\n",
    "                    result.remove((ent_a,x1,x2))\n",
    "                    result.append((ent_b,y1,y2))\n",
    "                break\n",
    "        if not overlap:\n",
    "            result.append((ent_b,y1,y2))\n",
    "    return result\n",
    "\n",
    "characters = {}\n",
    "for i in range(1,6):\n",
    "    \n",
    "with open('GOT1.txt','r') as fp:\n",
    "    book = fp.read()\n",
    "    chapters = book.split('\\n\\n\\n\\n\\n')\n",
    "    for i in range(0,len(chapters)):\n",
    "        name =[word for word in chapters[i].split('\\n') if len(word.strip())>0][0]\n",
    "        print(i+1,name.title())\n",
    "        chapter = ' '.join([word.replace('\\t','').replace('\"','') for word in chapters[i].split('\\n') if len(word.strip())>0][1:])\n",
    "        \n",
    "        doc1 = nlp1(chapter)\n",
    "        doc2 = nlp3(chapter)\n",
    "        sm = []\n",
    "        lg = []\n",
    "        for ent in doc1.ents:\n",
    "            if ent.label_ == 'PERSON':\n",
    "                sm.append((ent.text, ent.start_char, ent.end_char))\n",
    "        for ent in doc2.ents:\n",
    "            if ent.label_ == 'PERSON':\n",
    "                lg.append((ent.text, ent.start_char, ent.end_char))\n",
    "        \n",
    "        entities = union_entities(sm,lg)  \n",
    "        print(len(entities))"
   ]
  },
  {
   "cell_type": "code",
   "execution_count": 13,
   "metadata": {},
   "outputs": [
    {
     "ename": "FileNotFoundError",
     "evalue": "[Errno 2] No such file or directory: 'books/GOT1.txt'",
     "output_type": "error",
     "traceback": [
      "\u001b[1;31m---------------------------------------------------------------------------\u001b[0m",
      "\u001b[1;31mFileNotFoundError\u001b[0m                         Traceback (most recent call last)",
      "\u001b[1;32m<ipython-input-13-26f15a6a5685>\u001b[0m in \u001b[0;36m<module>\u001b[1;34m\u001b[0m\n\u001b[1;32m----> 1\u001b[1;33m \u001b[1;32mwith\u001b[0m \u001b[0mopen\u001b[0m\u001b[1;33m(\u001b[0m\u001b[1;34m'books/GOT1.txt'\u001b[0m\u001b[1;33m)\u001b[0m \u001b[1;32mas\u001b[0m \u001b[0mfp\u001b[0m\u001b[1;33m:\u001b[0m\u001b[1;33m\u001b[0m\u001b[1;33m\u001b[0m\u001b[0m\n\u001b[0m\u001b[0;32m      2\u001b[0m     \u001b[0mbook\u001b[0m \u001b[1;33m=\u001b[0m \u001b[0mfp\u001b[0m\u001b[1;33m.\u001b[0m\u001b[0mread\u001b[0m\u001b[1;33m(\u001b[0m\u001b[1;33m)\u001b[0m\u001b[1;33m\u001b[0m\u001b[1;33m\u001b[0m\u001b[0m\n\u001b[0;32m      3\u001b[0m     \u001b[0mchapters\u001b[0m \u001b[1;33m=\u001b[0m \u001b[0mbook\u001b[0m\u001b[1;33m.\u001b[0m\u001b[0msplit\u001b[0m\u001b[1;33m(\u001b[0m\u001b[1;34m'\\n\\n\\n\\n\\n'\u001b[0m\u001b[1;33m)\u001b[0m\u001b[1;33m\u001b[0m\u001b[1;33m\u001b[0m\u001b[0m\n\u001b[0;32m      4\u001b[0m     \u001b[1;32mfor\u001b[0m \u001b[0mi\u001b[0m \u001b[1;32min\u001b[0m \u001b[0mrange\u001b[0m\u001b[1;33m(\u001b[0m\u001b[1;36m0\u001b[0m\u001b[1;33m,\u001b[0m\u001b[0mlen\u001b[0m\u001b[1;33m(\u001b[0m\u001b[0mchapters\u001b[0m\u001b[1;33m)\u001b[0m\u001b[1;33m)\u001b[0m\u001b[1;33m:\u001b[0m\u001b[1;33m\u001b[0m\u001b[1;33m\u001b[0m\u001b[0m\n\u001b[0;32m      5\u001b[0m         \u001b[0mname\u001b[0m \u001b[1;33m=\u001b[0m\u001b[1;33m[\u001b[0m\u001b[0mword\u001b[0m \u001b[1;32mfor\u001b[0m \u001b[0mword\u001b[0m \u001b[1;32min\u001b[0m \u001b[0mchapters\u001b[0m\u001b[1;33m[\u001b[0m\u001b[0mi\u001b[0m\u001b[1;33m]\u001b[0m\u001b[1;33m.\u001b[0m\u001b[0msplit\u001b[0m\u001b[1;33m(\u001b[0m\u001b[1;34m'\\n'\u001b[0m\u001b[1;33m)\u001b[0m \u001b[1;32mif\u001b[0m \u001b[0mlen\u001b[0m\u001b[1;33m(\u001b[0m\u001b[0mword\u001b[0m\u001b[1;33m.\u001b[0m\u001b[0mstrip\u001b[0m\u001b[1;33m(\u001b[0m\u001b[1;33m)\u001b[0m\u001b[1;33m)\u001b[0m\u001b[1;33m>\u001b[0m\u001b[1;36m0\u001b[0m\u001b[1;33m]\u001b[0m\u001b[1;33m[\u001b[0m\u001b[1;36m0\u001b[0m\u001b[1;33m]\u001b[0m\u001b[1;33m\u001b[0m\u001b[1;33m\u001b[0m\u001b[0m\n",
      "\u001b[1;31mFileNotFoundError\u001b[0m: [Errno 2] No such file or directory: 'books/GOT1.txt'"
     ]
    }
   ],
   "source": [
    "with open('books/GOT1.txt') as fp:\n",
    "    book = fp.read()\n",
    "    chapters = book.split('\\n\\n\\n\\n\\n')\n",
    "    for i in range(0,len(chapters)):\n",
    "        name =[word for word in chapters[i].split('\\n') if len(word.strip())>0][0]\n",
    "        print(i+1,name.title())\n",
    "        chapter = ' '.join([word.replace('\\t','').replace('\"','') for word in chapters[i].split('\\n') if len(word.strip())>0][1:])\n",
    "        \n",
    "        doc3 = nlp3(chapter)\n",
    "        lg = set()\n",
    "        for ent in doc3.ents:\n",
    "            if ent.label_ == 'PERSON':\n",
    "                lg.add((ent.text, ent.start_char, ent.end_char))\n",
    "        spacy.displacy.render(doc3, style='dep')   \n",
    "        #print(len(lg))\n",
    "        break"
   ]
  },
  {
   "cell_type": "code",
   "execution_count": null,
   "metadata": {},
   "outputs": [],
   "source": []
  }
 ],
 "metadata": {
  "kernelspec": {
   "display_name": "Python 3",
   "language": "python",
   "name": "python3"
  },
  "language_info": {
   "codemirror_mode": {
    "name": "ipython",
    "version": 3
   },
   "file_extension": ".py",
   "mimetype": "text/x-python",
   "name": "python",
   "nbconvert_exporter": "python",
   "pygments_lexer": "ipython3",
   "version": "3.7.1"
  }
 },
 "nbformat": 4,
 "nbformat_minor": 2
}
